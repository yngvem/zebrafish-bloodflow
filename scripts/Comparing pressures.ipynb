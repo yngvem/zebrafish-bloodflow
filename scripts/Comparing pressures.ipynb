{
 "cells": [
  {
   "cell_type": "code",
   "execution_count": null,
   "source": [
    "import pandas as pd\n",
    "from pathlib import Path\n",
    "import seaborn as sns\n",
    "import matplotlib.pyplot as plt\n",
    "from tqdm import tqdm"
   ],
   "outputs": [],
   "metadata": {}
  },
  {
   "cell_type": "code",
   "execution_count": null,
   "source": [
    "def get_vessel_type_from_full_path(path):\n",
    "    res = get_vessel_type(path.split(\"/\")[-1])\n",
    "    if not res:\n",
    "        res = get_vessel_type(path.split(\"/\")[-2])\n",
    "    return res\n",
    "\n",
    "def get_vessel_type(name):\n",
    "    if \"cancer\" in name.lower():\n",
    "        return \"Cancer\"\n",
    "    if \"artery\" in name.lower():\n",
    "        return \"Artery\"\n",
    "    if \"vein\" in name.lower():\n",
    "        return \"Vein\"\n",
    "    if \"isv\" in name.lower():\n",
    "        return \"ISV\"\n",
    "    return False"
   ],
   "outputs": [],
   "metadata": {}
  },
  {
   "cell_type": "code",
   "execution_count": null,
   "source": [
    "parent = Path(\"/media/yngve/TOSHIBA EXT (YNGVE)/fish_data/organised/\")\n",
    "vessels = sorted({p.parent for p in parent.glob(\"**/*red ch_*.ims\")})\n",
    "data = []\n",
    "for vessel in tqdm(vessels):\n",
    "    try:\n",
    "        data.append(pd.read_csv(vessel / \"median_results.csv\"))\n",
    "        data[-1][\"File\"] = str(vessel).split(\"organised/7 DAY OLD Fish \")[1]\n",
    "    except FileNotFoundError:\n",
    "        print(\"No data for\", vessel, flush=True)"
   ],
   "outputs": [],
   "metadata": {}
  },
  {
   "cell_type": "code",
   "execution_count": null,
   "source": [
    "results = pd.concat(data)\n",
    "results[\"With tumour\"] = results[\"File\"].map(lambda x: \"with \" in x)"
   ],
   "outputs": [],
   "metadata": {}
  },
  {
   "cell_type": "code",
   "execution_count": null,
   "source": [
    "results[\"Vessel type\"] = results[\"File\"].map(get_vessel_type_from_full_path)"
   ],
   "outputs": [],
   "metadata": {}
  },
  {
   "cell_type": "code",
   "execution_count": null,
   "source": [
    "plt.figure(figsize=(8, 4.5), dpi=200)\n",
    "sns.boxplot(x=\"Vessel type\", y=\"Pressure drop (Lee) [Pa/µm]\", data=results)"
   ],
   "outputs": [],
   "metadata": {}
  },
  {
   "cell_type": "code",
   "execution_count": null,
   "source": [
    "plt.figure(figsize=(8, 4.5), dpi=200)\n",
    "sns.boxplot(x=\"Vessel type\", y=\"Pressure drop (Pries) [Pa/µm]\", data=results)"
   ],
   "outputs": [],
   "metadata": {}
  },
  {
   "cell_type": "code",
   "execution_count": null,
   "source": [
    "results.groupby(\"Vessel type\").median()[[\n",
    "    'v [µm/s]',\n",
    "    'Distance to centerline [µm]',\n",
    "    'Max R [µm]',\n",
    "    \"Pressure drop (Lee) [Pa/µm]\",\n",
    "    \"Pressure drop (Pries) [Pa/µm]\",\n",
    "    \"Pressure drop (integral based) (Lee) [Pa/µm]\",\n",
    "    \"Pressure drop (integral based) (Pries) [Pa/µm]\"\n",
    "]]"
   ],
   "outputs": [],
   "metadata": {}
  }
 ],
 "metadata": {
  "kernelspec": {
   "display_name": "Python 3 (ipykernel)",
   "language": "python",
   "name": "python3"
  },
  "language_info": {
   "codemirror_mode": {
    "name": "ipython",
    "version": 3
   },
   "file_extension": ".py",
   "mimetype": "text/x-python",
   "name": "python",
   "nbconvert_exporter": "python",
   "pygments_lexer": "ipython3",
   "version": "3.8.10"
  }
 },
 "nbformat": 4,
 "nbformat_minor": 5
}