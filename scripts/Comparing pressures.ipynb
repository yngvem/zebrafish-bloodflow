{
 "cells": [
  {
   "cell_type": "code",
   "execution_count": 1,
   "id": "4127d0d5",
   "metadata": {},
   "outputs": [],
   "source": [
    "import pandas as pd\n",
    "from pathlib import Path\n",
    "import seaborn as sns\n",
    "import matplotlib.pyplot as plt\n",
    "from tqdm import tqdm"
   ]
  },
  {
   "cell_type": "code",
   "execution_count": 2,
   "id": "e0b11b18",
   "metadata": {},
   "outputs": [],
   "source": [
    "def get_vessel_type_from_full_path(path):\n",
    "    res = get_vessel_type(path.split(\"/\")[-1])\n",
    "    if not res:\n",
    "        res = get_vessel_type(path.split(\"/\")[-2])\n",
    "    return res\n",
    "\n",
    "def get_vessel_type(name):\n",
    "    if \"cancer\" in name.lower():\n",
    "        return \"Cancer\"\n",
    "    if \"artery\" in name.lower():\n",
    "        return \"Artery\"\n",
    "    if \"vein\" in name.lower():\n",
    "        return \"Vein\"\n",
    "    if \"isv\" in name.lower():\n",
    "        return \"ISV\"\n",
    "    return False"
   ]
  },
  {
   "cell_type": "code",
   "execution_count": 3,
   "id": "5e3fc7cb",
   "metadata": {},
   "outputs": [
    {
     "name": "stderr",
     "output_type": "stream",
     "text": [
      "\r",
      "  0%|                                                                                       | 0/111 [00:00<?, ?it/s]"
     ]
    },
    {
     "name": "stdout",
     "output_type": "stream",
     "text": [
      "No data for /media/yngve/TOSHIBA EXT (YNGVE)/fish_data/organised/7 DAY OLD Fish with tumors/Fish 1 complete/Cancer region/Cancer vessel 1\n",
      "No data for /media/yngve/TOSHIBA EXT (YNGVE)/fish_data/organised/7 DAY OLD Fish with tumors/Fish 1 complete/Caudal vein\n",
      "No data for /media/yngve/TOSHIBA EXT (YNGVE)/fish_data/organised/7 DAY OLD Fish with tumors/Fish 1 complete/Intersegmental vessels/ISV1\n",
      "No data for /media/yngve/TOSHIBA EXT (YNGVE)/fish_data/organised/7 DAY OLD Fish with tumors/Fish 1 complete/Intersegmental vessels/ISV2\n",
      "No data for /media/yngve/TOSHIBA EXT (YNGVE)/fish_data/organised/7 DAY OLD Fish with tumors/Fish 1 complete/Intersegmental vessels/ISV3\n",
      "No data for /media/yngve/TOSHIBA EXT (YNGVE)/fish_data/organised/7 DAY OLD Fish with tumors/Fish 2/Tumor vessels/Cancer vessel 1\n",
      "No data for /media/yngve/TOSHIBA EXT (YNGVE)/fish_data/organised/7 DAY OLD Fish with tumors/Fish 2/Tumor vessels/Cancer vessel 10\n",
      "No data for /media/yngve/TOSHIBA EXT (YNGVE)/fish_data/organised/7 DAY OLD Fish with tumors/Fish 3 Cancer region/Cancer region\n",
      "No data for /media/yngve/TOSHIBA EXT (YNGVE)/fish_data/organised/7 DAY OLD Fish with tumors/Fish 3 Cancer region/Cancer region/Cancer Vessel 1\n",
      "No data for /media/yngve/TOSHIBA EXT (YNGVE)/fish_data/organised/7 DAY OLD Fish with tumors/Fish 3 Cancer region/Cancer region/Stack of the vessel\n",
      "No data for /media/yngve/TOSHIBA EXT (YNGVE)/fish_data/organised/7 DAY OLD Fish with tumors/Fish 3 Cancer region/Intersegmental vessels healthy\n",
      "No data for /media/yngve/TOSHIBA EXT (YNGVE)/fish_data/organised/7 DAY OLD Fish with tumors/Fish 3 Cancer region/Intersegmental vessels healthy/ISV1\n",
      "No data for /media/yngve/TOSHIBA EXT (YNGVE)/fish_data/organised/7 DAY OLD Fish with tumors/Fish 3 Cancer region/Intersegmental vessels healthy/ISV2\n",
      "No data for /media/yngve/TOSHIBA EXT (YNGVE)/fish_data/organised/7 DAY OLD Fish with tumors/Fish 4/Caudal artery/Caudal artery imaging 1\n",
      "No data for /media/yngve/TOSHIBA EXT (YNGVE)/fish_data/organised/7 DAY OLD Fish with tumors/Fish 4/Caudal artery/Caudal artery imaging 2\n",
      "No data for /media/yngve/TOSHIBA EXT (YNGVE)/fish_data/organised/7 DAY OLD Fish with tumors/Fish 4/Caudal vein/Caudal vein 1\n",
      "No data for /media/yngve/TOSHIBA EXT (YNGVE)/fish_data/organised/7 DAY OLD Fish with tumors/Fish 4/Caudal vein/Caudal vein 2\n",
      "No data for /media/yngve/TOSHIBA EXT (YNGVE)/fish_data/organised/7 DAY OLD Fish with tumors/Fish 4/Healthy intersegmental vessel\n",
      "No data for /media/yngve/TOSHIBA EXT (YNGVE)/fish_data/organised/7 DAY OLD Fish with tumors/Fish 5/Cancer vessel 1\n",
      "No data for /media/yngve/TOSHIBA EXT (YNGVE)/fish_data/organised/7 DAY OLD Fish with tumors/Fish 5/Cancer vessel 2\n",
      "No data for /media/yngve/TOSHIBA EXT (YNGVE)/fish_data/organised/7 DAY OLD Fish with tumors/Fish 5/Cancer vessel 3\n",
      "No data for /media/yngve/TOSHIBA EXT (YNGVE)/fish_data/organised/7 DAY OLD Fish with tumors/Fish 5/Cancer vessel 4\n",
      "No data for /media/yngve/TOSHIBA EXT (YNGVE)/fish_data/organised/7 DAY OLD Fish with tumors/Fish 5/Cancer vessel 5\n",
      "No data for /media/yngve/TOSHIBA EXT (YNGVE)/fish_data/organised/7 DAY OLD Fish with tumors/Fish 5/Cancer vessel 6\n",
      "No data for /media/yngve/TOSHIBA EXT (YNGVE)/fish_data/organised/7 DAY OLD Fish with tumors/Fish 5/Cancer vessel 7\n",
      "No data for /media/yngve/TOSHIBA EXT (YNGVE)/fish_data/organised/7 DAY OLD Fish with tumors/Fish 6/Healthy caudal artery\n",
      "No data for /media/yngve/TOSHIBA EXT (YNGVE)/fish_data/organised/7 DAY OLD Fish with tumors/Fish 6/Healthy caudal vein\n"
     ]
    },
    {
     "name": "stderr",
     "output_type": "stream",
     "text": [
      "\r",
      " 50%|██████████████████████████████████████▏                                      | 55/111 [00:00<00:00, 538.39it/s]"
     ]
    },
    {
     "name": "stdout",
     "output_type": "stream",
     "text": [
      "No data for /media/yngve/TOSHIBA EXT (YNGVE)/fish_data/organised/7 DAY OLD Fish without tumors/Fish 3/vein/1000\n",
      "No data for /media/yngve/TOSHIBA EXT (YNGVE)/fish_data/organised/7 DAY OLD Fish without tumors/Fish 3/vein/400\n",
      "No data for /media/yngve/TOSHIBA EXT (YNGVE)/fish_data/organised/7 DAY OLD Fish without tumors/Fish 4/Vein/1000\n",
      "No data for /media/yngve/TOSHIBA EXT (YNGVE)/fish_data/organised/7 DAY OLD Fish without tumors/Fish 4/Vein/400\n",
      "No data for /media/yngve/TOSHIBA EXT (YNGVE)/fish_data/organised/7 DAY OLD Fish without tumors/Fish 5\n",
      "No data for /media/yngve/TOSHIBA EXT (YNGVE)/fish_data/organised/7 DAY OLD Fish without tumors/Fish 6\n",
      "No data for /media/yngve/TOSHIBA EXT (YNGVE)/fish_data/organised/7 DAY OLD Fish without tumors/Fish 7\n",
      "No data for /media/yngve/TOSHIBA EXT (YNGVE)/fish_data/organised/7 DAY OLD Fish without tumors/Fish 9/ISV 2/1000\n",
      "No data for /media/yngve/TOSHIBA EXT (YNGVE)/fish_data/organised/7 DAY OLD Fish without tumors/Fish 9/ISV 2/400\n"
     ]
    },
    {
     "name": "stderr",
     "output_type": "stream",
     "text": [
      "100%|████████████████████████████████████████████████████████████████████████████| 111/111 [00:00<00:00, 473.78it/s]\n"
     ]
    }
   ],
   "source": [
    "parent = Path(\"/media/yngve/TOSHIBA EXT (YNGVE)/fish_data/organised/\")\n",
    "vessels = sorted({p.parent for p in parent.glob(\"**/*red ch_*.ims\")})\n",
    "data = []\n",
    "for vessel in tqdm(vessels):\n",
    "    try:\n",
    "        data.append(pd.read_csv(vessel / \"median_results.csv\"))\n",
    "        data[-1][\"File\"] = str(vessel).split(\"organised/7 DAY OLD Fish \")[1]\n",
    "    except FileNotFoundError:\n",
    "        print(\"No data for\", vessel, flush=True)"
   ]
  },
  {
   "cell_type": "code",
   "execution_count": 4,
   "id": "f7352f89",
   "metadata": {},
   "outputs": [],
   "source": [
    "results = pd.concat(data)\n",
    "results[\"With tumour\"] = results[\"File\"].map(lambda x: \"with \" in x)"
   ]
  },
  {
   "cell_type": "code",
   "execution_count": 5,
   "id": "0122666e",
   "metadata": {},
   "outputs": [],
   "source": [
    "results[\"Vessel type\"] = results[\"File\"].map(get_vessel_type_from_full_path)"
   ]
  },
  {
   "cell_type": "code",
   "execution_count": 13,
   "id": "4aa55608",
   "metadata": {},
   "outputs": [
    {
     "data": {
      "text/plain": [
       "<seaborn.axisgrid.FacetGrid at 0x7f943ac30610>"
      ]
     },
     "execution_count": 13,
     "metadata": {},
     "output_type": "execute_result"
    },
    {
     "data": {
      "text/plain": [
       "<Figure size 1600x900 with 0 Axes>"
      ]
     },
     "metadata": {},
     "output_type": "display_data"
    },
    {
     "data": {
      "image/png": "[encoded data removed]",
      "text/plain": [
       "<Figure size 720x360 with 2 Axes>"
      ]
     },
     "metadata": {
      "needs_background": "light"
     },
     "output_type": "display_data"
    }
   ],
   "source": [
    "plt.figure(figsize=(8, 4.5), dpi=200)\n",
    "sns.catplot(x=\"Vessel type\", y=\"Pressure drop (Lee) [Pa/µm]\", col=\"Wavelength\", data=results, kind=\"box\")"
   ]
  },
  {
   "cell_type": "code",
   "execution_count": 17,
   "id": "8626569c",
   "metadata": {},
   "outputs": [
    {
     "data": {
      "text/plain": [
       "<seaborn.axisgrid.FacetGrid at 0x7f93e04377f0>"
      ]
     },
     "execution_count": 17,
     "metadata": {},
     "output_type": "execute_result"
    },
    {
     "data": {
      "text/plain": [
       "<Figure size 1600x900 with 0 Axes>"
      ]
     },
     "metadata": {},
     "output_type": "display_data"
    },
    {
     "data": {
      "image/png": "[encoded data removed]",
      "text/plain": [
       "<Figure size 720x360 with 2 Axes>"
      ]
     },
     "metadata": {
      "needs_background": "light"
     },
     "output_type": "display_data"
    }
   ],
   "source": [
    "plt.figure(figsize=(8, 4.5), dpi=200)\n",
    "sns.catplot(x=\"Vessel type\", y=\"Pressure drop (integral based) (Lee) [Pa/µm]\", col=\"Wavelength\", data=results, kind=\"box\")"
   ]
  },
  {
   "cell_type": "code",
   "execution_count": 14,
   "id": "51bb5b84",
   "metadata": {},
   "outputs": [
    {
     "data": {
      "text/plain": [
       "<seaborn.axisgrid.FacetGrid at 0x7f93e0444190>"
      ]
     },
     "execution_count": 14,
     "metadata": {},
     "output_type": "execute_result"
    },
    {
     "data": {
      "text/plain": [
       "<Figure size 1600x900 with 0 Axes>"
      ]
     },
     "metadata": {},
     "output_type": "display_data"
    },
    {
     "data": {
      "image/png": "[encoded data removed]",
      "text/plain": [
       "<Figure size 720x360 with 2 Axes>"
      ]
     },
     "metadata": {
      "needs_background": "light"
     },
     "output_type": "display_data"
    }
   ],
   "source": [
    "plt.figure(figsize=(8, 4.5), dpi=200)\n",
    "sns.catplot(x=\"Vessel type\", y=\"Pressure drop (Pries) [Pa/µm]\", col=\"Wavelength\", data=results, kind=\"box\")"
   ]
  },
  {
   "cell_type": "code",
   "execution_count": 18,
   "id": "8394a4a6",
   "metadata": {},
   "outputs": [
    {
     "data": {
      "text/plain": [
       "<seaborn.axisgrid.FacetGrid at 0x7f93e035ff70>"
      ]
     },
     "execution_count": 18,
     "metadata": {},
     "output_type": "execute_result"
    },
    {
     "data": {
      "text/plain": [
       "<Figure size 1600x900 with 0 Axes>"
      ]
     },
     "metadata": {},
     "output_type": "display_data"
    },
    {
     "data": {
      "image/png": "[encoded data removed]",
      "text/plain": [
       "<Figure size 720x360 with 2 Axes>"
      ]
     },
     "metadata": {
      "needs_background": "light"
     },
     "output_type": "display_data"
    }
   ],
   "source": [
    "plt.figure(figsize=(8, 4.5), dpi=200)\n",
    "sns.catplot(x=\"Vessel type\", y=\"Pressure drop (integral based) (Pries) [Pa/µm]\", col=\"Wavelength\", data=results, kind=\"box\")"
   ]
  },
  {
   "cell_type": "code",
   "execution_count": 16,
   "id": "6254e89f",
   "metadata": {},
   "outputs": [
    {
     "data": {
      "text/html": [
       "<div>\n",
       "<style scoped>\n",
       "    .dataframe tbody tr th:only-of-type {\n",
       "        vertical-align: middle;\n",
       "    }\n",
       "\n",
       "    .dataframe tbody tr th {\n",
       "        vertical-align: top;\n",
       "    }\n",
       "\n",
       "    .dataframe thead th {\n",
       "        text-align: right;\n",
       "    }\n",
       "</style>\n",
       "<table border=\"1\" class=\"dataframe\">\n",
       "  <thead>\n",
       "    <tr style=\"text-align: right;\">\n",
       "      <th></th>\n",
       "      <th></th>\n",
       "      <th>v [µm/s]</th>\n",
       "      <th>Distance to centerline [µm]</th>\n",
       "      <th>Max R [µm]</th>\n",
       "      <th>Pressure drop (Lee) [Pa/µm]</th>\n",
       "      <th>Pressure drop (Pries) [Pa/µm]</th>\n",
       "      <th>Pressure drop (integral based) (Lee) [Pa/µm]</th>\n",
       "      <th>Pressure drop (integral based) (Pries) [Pa/µm]</th>\n",
       "    </tr>\n",
       "    <tr>\n",
       "      <th>Vessel type</th>\n",
       "      <th>Wavelength</th>\n",
       "      <th></th>\n",
       "      <th></th>\n",
       "      <th></th>\n",
       "      <th></th>\n",
       "      <th></th>\n",
       "      <th></th>\n",
       "      <th></th>\n",
       "    </tr>\n",
       "  </thead>\n",
       "  <tbody>\n",
       "    <tr>\n",
       "      <th rowspan=\"2\" valign=\"top\">Artery</th>\n",
       "      <th>400.0</th>\n",
       "      <td>486.509745</td>\n",
       "      <td>3.600660</td>\n",
       "      <td>8.241000</td>\n",
       "      <td>0.153971</td>\n",
       "      <td>0.054656</td>\n",
       "      <td>0.159300</td>\n",
       "      <td>0.056548</td>\n",
       "    </tr>\n",
       "    <tr>\n",
       "      <th>1000.0</th>\n",
       "      <td>504.676206</td>\n",
       "      <td>3.444657</td>\n",
       "      <td>7.738500</td>\n",
       "      <td>0.178876</td>\n",
       "      <td>0.065171</td>\n",
       "      <td>0.180114</td>\n",
       "      <td>0.068356</td>\n",
       "    </tr>\n",
       "    <tr>\n",
       "      <th rowspan=\"2\" valign=\"top\">Cancer</th>\n",
       "      <th>400.0</th>\n",
       "      <td>267.369246</td>\n",
       "      <td>1.620514</td>\n",
       "      <td>4.832368</td>\n",
       "      <td>0.218760</td>\n",
       "      <td>0.073617</td>\n",
       "      <td>0.239446</td>\n",
       "      <td>0.076033</td>\n",
       "    </tr>\n",
       "    <tr>\n",
       "      <th>1000.0</th>\n",
       "      <td>259.704351</td>\n",
       "      <td>1.634375</td>\n",
       "      <td>4.832368</td>\n",
       "      <td>0.249135</td>\n",
       "      <td>0.080513</td>\n",
       "      <td>0.253394</td>\n",
       "      <td>0.081464</td>\n",
       "    </tr>\n",
       "    <tr>\n",
       "      <th rowspan=\"2\" valign=\"top\">ISV</th>\n",
       "      <th>400.0</th>\n",
       "      <td>242.651515</td>\n",
       "      <td>1.420852</td>\n",
       "      <td>3.411083</td>\n",
       "      <td>0.467946</td>\n",
       "      <td>0.143319</td>\n",
       "      <td>0.504711</td>\n",
       "      <td>0.154712</td>\n",
       "    </tr>\n",
       "    <tr>\n",
       "      <th>1000.0</th>\n",
       "      <td>241.383397</td>\n",
       "      <td>1.333960</td>\n",
       "      <td>3.486406</td>\n",
       "      <td>0.425801</td>\n",
       "      <td>0.141487</td>\n",
       "      <td>0.500796</td>\n",
       "      <td>0.153747</td>\n",
       "    </tr>\n",
       "    <tr>\n",
       "      <th rowspan=\"2\" valign=\"top\">Vein</th>\n",
       "      <th>400.0</th>\n",
       "      <td>183.155222</td>\n",
       "      <td>4.041948</td>\n",
       "      <td>12.693273</td>\n",
       "      <td>0.022818</td>\n",
       "      <td>0.009348</td>\n",
       "      <td>0.024204</td>\n",
       "      <td>0.009916</td>\n",
       "    </tr>\n",
       "    <tr>\n",
       "      <th>1000.0</th>\n",
       "      <td>229.797579</td>\n",
       "      <td>4.489647</td>\n",
       "      <td>12.693273</td>\n",
       "      <td>0.023459</td>\n",
       "      <td>0.009611</td>\n",
       "      <td>0.025718</td>\n",
       "      <td>0.010536</td>\n",
       "    </tr>\n",
       "  </tbody>\n",
       "</table>\n",
       "</div>"
      ],
      "text/plain": [
       "                          v [µm/s]  Distance to centerline [µm]  Max R [µm]  \\\n",
       "Vessel type Wavelength                                                        \n",
       "Artery      400.0       486.509745                     3.600660    8.241000   \n",
       "            1000.0      504.676206                     3.444657    7.738500   \n",
       "Cancer      400.0       267.369246                     1.620514    4.832368   \n",
       "            1000.0      259.704351                     1.634375    4.832368   \n",
       "ISV         400.0       242.651515                     1.420852    3.411083   \n",
       "            1000.0      241.383397                     1.333960    3.486406   \n",
       "Vein        400.0       183.155222                     4.041948   12.693273   \n",
       "            1000.0      229.797579                     4.489647   12.693273   \n",
       "\n",
       "                        Pressure drop (Lee) [Pa/µm]  \\\n",
       "Vessel type Wavelength                                \n",
       "Artery      400.0                          0.153971   \n",
       "            1000.0                         0.178876   \n",
       "Cancer      400.0                          0.218760   \n",
       "            1000.0                         0.249135   \n",
       "ISV         400.0                          0.467946   \n",
       "            1000.0                         0.425801   \n",
       "Vein        400.0                          0.022818   \n",
       "            1000.0                         0.023459   \n",
       "\n",
       "                        Pressure drop (Pries) [Pa/µm]  \\\n",
       "Vessel type Wavelength                                  \n",
       "Artery      400.0                            0.054656   \n",
       "            1000.0                           0.065171   \n",
       "Cancer      400.0                            0.073617   \n",
       "            1000.0                           0.080513   \n",
       "ISV         400.0                            0.143319   \n",
       "            1000.0                           0.141487   \n",
       "Vein        400.0                            0.009348   \n",
       "            1000.0                           0.009611   \n",
       "\n",
       "                        Pressure drop (integral based) (Lee) [Pa/µm]  \\\n",
       "Vessel type Wavelength                                                 \n",
       "Artery      400.0                                           0.159300   \n",
       "            1000.0                                          0.180114   \n",
       "Cancer      400.0                                           0.239446   \n",
       "            1000.0                                          0.253394   \n",
       "ISV         400.0                                           0.504711   \n",
       "            1000.0                                          0.500796   \n",
       "Vein        400.0                                           0.024204   \n",
       "            1000.0                                          0.025718   \n",
       "\n",
       "                        Pressure drop (integral based) (Pries) [Pa/µm]  \n",
       "Vessel type Wavelength                                                  \n",
       "Artery      400.0                                             0.056548  \n",
       "            1000.0                                            0.068356  \n",
       "Cancer      400.0                                             0.076033  \n",
       "            1000.0                                            0.081464  \n",
       "ISV         400.0                                             0.154712  \n",
       "            1000.0                                            0.153747  \n",
       "Vein        400.0                                             0.009916  \n",
       "            1000.0                                            0.010536  "
      ]
     },
     "execution_count": 16,
     "metadata": {},
     "output_type": "execute_result"
    }
   ],
   "source": [
    "results.groupby([\"Vessel type\", \"Wavelength\"]).median()[[\n",
    "    'v [µm/s]',\n",
    "    'Distance to centerline [µm]',\n",
    "    'Max R [µm]',\n",
    "    \"Pressure drop (Lee) [Pa/µm]\",\n",
    "    \"Pressure drop (Pries) [Pa/µm]\",\n",
    "    \"Pressure drop (integral based) (Lee) [Pa/µm]\",\n",
    "    \"Pressure drop (integral based) (Pries) [Pa/µm]\"\n",
    "]]"
   ]
  },
  {
   "cell_type": "code",
   "execution_count": null,
   "id": "4e2e29c3",
   "metadata": {},
   "outputs": [],
   "source": []
  }
 ],
 "metadata": {
  "kernelspec": {
   "display_name": "Python 3 (ipykernel)",
   "language": "python",
   "name": "python3"
  },
  "language_info": {
   "codemirror_mode": {
    "name": "ipython",
    "version": 3
   },
   "file_extension": ".py",
   "mimetype": "text/x-python",
   "name": "python",
   "nbconvert_exporter": "python",
   "pygments_lexer": "ipython3",
   "version": "3.8.10"
  }
 },
 "nbformat": 4,
 "nbformat_minor": 5
}
